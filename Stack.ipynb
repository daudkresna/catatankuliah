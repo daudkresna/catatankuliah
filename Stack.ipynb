{
 "cells": [
  {
   "cell_type": "markdown",
   "metadata": {},
   "source": [
    "<h1>Stack</h1>\n",
    "<p>Pengertian Stack pada Struktur Data adalah sebagai tumpukan dari benda, sekumpulan data yang seolah-olah diletakkan di atas data yang lain, koleksi dari objek-objek homogen, atau Suatu urutan elemen yang elemennya dapat diambil dan ditambah hanya pada posisi akhir (top) saja. Stack pada Struktur Data dapat diilustrasikan dengan dua buah kotak yang ditumpuk, kotak yang satu akan ditumpuk diatas kotak yang lainnya. Jika kemudian stack 2 kotak tadi, ditambah kotak ketiga, keempat, kelima, dan seterusnya, maka akan diperoleh sebuah stack kotak yang terdiri dari N kotak. </p>\n",
    "\n",
    "<p><b>Stack bersifat LIFO</b> <i>(Last In First Out)</i> artinya Benda yang terakhir masuk ke dalam stack akan menjadi yang pertama keluar dari stack </p>\n",
    "\n",
    "\n",
    "<p>Operasi-operasi yang biasanya tredapat pada Stack yaitu:<br>\n",
    "    1. <b>Push</b> : digunakan untuk menambah item pada stack pada tumpukan paling atas<br>\n",
    "    2. <b>Pop</b> : digunakan untuk mengambil item pada stack pada tumpukan paling atas<br>\n",
    "    3. <b>Clear</b> : digunakan untuk mengosongkan stack<br>\n",
    "    4. <b>IsEmpty</b> : fungsi yang digunakan untuk mengecek apakah stack sudah kosong<br>\n",
    "    5. <b>IsFull</b> : fungsi yang digunakan untuk mengecek apakah stack sudah penuh<br>\n",
    "</p>"
   ]
  },
  {
   "cell_type": "code",
   "execution_count": 2,
   "metadata": {},
   "outputs": [
    {
     "name": "stdout",
     "output_type": "stream",
     "text": [
      "<bound method stack.isempty of <__main__.stack object at 0x00000282761AFDA0>>\n",
      "true\n",
      "true\n",
      "hello\n"
     ]
    }
   ],
   "source": [
    "class stack:\n",
    "    def __init__(self):\n",
    "        self.items = []\n",
    "        \n",
    "    def isempty(self):\n",
    "        return self.items==[]\n",
    "        \n",
    "    def push(self,item):\n",
    "        self.items.append(item)\n",
    "            \n",
    "    def pop(self):\n",
    "        return self.items.pop()\n",
    "        \n",
    "    def peek(self):\n",
    "        return self.items[len(self.items)-1]\n",
    "        \n",
    "    def size(self):\n",
    "        return len(self.items)\n",
    "        \n",
    "s=stack()\n",
    "s.push (\"hello\")\n",
    "s.push (\"true\")\n",
    "print(s.isempty)\n",
    "print(s.peek())\n",
    "while not s.isempty():\n",
    "    print(s.pop())"
   ]
  },
  {
   "cell_type": "code",
   "execution_count": null,
   "metadata": {},
   "outputs": [],
   "source": []
  }
 ],
 "metadata": {
  "kernelspec": {
   "display_name": "Python 3",
   "language": "python",
   "name": "python3"
  },
  "language_info": {
   "codemirror_mode": {
    "name": "ipython",
    "version": 3
   },
   "file_extension": ".py",
   "mimetype": "text/x-python",
   "name": "python",
   "nbconvert_exporter": "python",
   "pygments_lexer": "ipython3",
   "version": "3.7.1"
  }
 },
 "nbformat": 4,
 "nbformat_minor": 2
}
